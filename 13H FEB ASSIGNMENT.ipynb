{
 "cells": [
  {
   "cell_type": "code",
   "execution_count": 2,
   "id": "da191a28-3b9d-4ad2-9ac4-72d0b31db4c5",
   "metadata": {
    "tags": []
   },
   "outputs": [],
   "source": [
    "# Explain why we have to use the Exception class while creating a Custom Exception."
   ]
  },
  {
   "cell_type": "code",
   "execution_count": 3,
   "id": "2460440e-1500-483c-91c9-6b0f7a0dd43f",
   "metadata": {
    "tags": []
   },
   "outputs": [],
   "source": [
    "# When creating a custom exception in  Python, it is important to extend \n",
    "# the \"Exception\" class in order to ensure that the custom exception is compatible\n",
    "# with the existing exception-handling mechanisms provided by the language. By extending \n",
    "# the \"Exception\" class, the custom exception inherits all of the properties and methods of \n",
    "# the base class, including the ability to be caught by a \"catch\" block and the ability to provide\n",
    "# a message describing the nature of the exception."
   ]
  },
  {
   "cell_type": "code",
   "execution_count": 7,
   "id": "71d55cd0-2f51-4401-a095-41167c1f5a95",
   "metadata": {
    "tags": []
   },
   "outputs": [],
   "source": [
    "# Write a python program to print Python Exception Hierarchy."
   ]
  },
  {
   "cell_type": "code",
   "execution_count": 10,
   "id": "6ab690f7-5672-4b2e-bcf4-3a7f338ff7de",
   "metadata": {
    "tags": []
   },
   "outputs": [],
   "source": [
    "# Dont know how to do it\n",
    "# sir didnt taught us this"
   ]
  },
  {
   "cell_type": "code",
   "execution_count": 11,
   "id": "e5bf948a-d3ad-4996-b498-b17ae4cfe090",
   "metadata": {
    "tags": []
   },
   "outputs": [],
   "source": [
    "# What errors are defined in the ArithmeticError class? Explain any two with an example."
   ]
  },
  {
   "cell_type": "code",
   "execution_count": 13,
   "id": "cca813ba-6fd3-4351-a99c-19b66ddcfca7",
   "metadata": {
    "tags": []
   },
   "outputs": [
    {
     "ename": "ValueError",
     "evalue": "math domain error",
     "output_type": "error",
     "traceback": [
      "\u001b[1;31m---------------------------------------------------------------------------\u001b[0m",
      "\u001b[1;31mValueError\u001b[0m                                Traceback (most recent call last)",
      "Input \u001b[1;32mIn [13]\u001b[0m, in \u001b[0;36m<cell line: 6>\u001b[1;34m()\u001b[0m\n\u001b[0;32m      1\u001b[0m \u001b[38;5;66;03m# The ArithmeticError class is a subclass of the Exception class in Python, \u001b[39;00m\n\u001b[0;32m      2\u001b[0m \u001b[38;5;66;03m# and it represents errors that occur during arithmetic operations. \u001b[39;00m\n\u001b[0;32m      5\u001b[0m \u001b[38;5;28;01mimport\u001b[39;00m \u001b[38;5;21;01mmath\u001b[39;00m\n\u001b[1;32m----> 6\u001b[0m x \u001b[38;5;241m=\u001b[39m \u001b[43mmath\u001b[49m\u001b[38;5;241;43m.\u001b[39;49m\u001b[43msqrt\u001b[49m\u001b[43m(\u001b[49m\u001b[38;5;241;43m-\u001b[39;49m\u001b[38;5;241;43m1\u001b[39;49m\u001b[43m)\u001b[49m \n\u001b[0;32m      7\u001b[0m \u001b[38;5;28mprint\u001b[39m(x)\n\u001b[0;32m      8\u001b[0m \u001b[38;5;66;03m# Output:\u001b[39;00m\n\u001b[0;32m      9\u001b[0m \u001b[38;5;66;03m# ValueError: math domain error\u001b[39;00m\n\u001b[0;32m     10\u001b[0m \n\u001b[0;32m     11\u001b[0m \u001b[38;5;66;03m# Example of a ZeroDivisionError\u001b[39;00m\n",
      "\u001b[1;31mValueError\u001b[0m: math domain error"
     ]
    }
   ],
   "source": [
    "# The ArithmeticError class is a subclass of the Exception class in Python, \n",
    "# and it represents errors that occur during arithmetic operations. \n",
    "\n",
    "\n",
    "import math\n",
    "x = math.sqrt(-1) \n",
    "print(x)\n",
    "# Output:\n",
    "# ValueError: math domain error\n",
    "\n",
    "# Example of a ZeroDivisionError\n",
    "a = 10\n",
    "b = 0\n",
    "c = a / b  \n",
    "# Output:\n",
    "# ZeroDivisionError: division by zero\n"
   ]
  },
  {
   "cell_type": "code",
   "execution_count": 14,
   "id": "6d6d7045-a412-4dd4-a27e-d0be894730dd",
   "metadata": {
    "tags": []
   },
   "outputs": [],
   "source": [
    "# Why LookupError class is used? Explain with an example KeyError and IndexError.\n"
   ]
  },
  {
   "cell_type": "code",
   "execution_count": 15,
   "id": "81954c5d-c016-4369-85ec-46235759cbe0",
   "metadata": {
    "tags": []
   },
   "outputs": [],
   "source": [
    "# The LookupError class is a base class for exceptions that occur when an attempt is made to look up a value\n",
    "# in a sequence or mapping that does not exist. \n",
    "# This includes errors like KeyError and IndexError."
   ]
  },
  {
   "cell_type": "code",
   "execution_count": 18,
   "id": "82f10590-08dc-4b3f-b671-267a3d1ded0c",
   "metadata": {
    "tags": []
   },
   "outputs": [
    {
     "name": "stdout",
     "output_type": "stream",
     "text": [
      "1\n"
     ]
    },
    {
     "ename": "KeyError",
     "evalue": "'grape'",
     "output_type": "error",
     "traceback": [
      "\u001b[1;31m---------------------------------------------------------------------------\u001b[0m",
      "\u001b[1;31mKeyError\u001b[0m                                  Traceback (most recent call last)",
      "Input \u001b[1;32mIn [18]\u001b[0m, in \u001b[0;36m<cell line: 4>\u001b[1;34m()\u001b[0m\n\u001b[0;32m      1\u001b[0m my_dict \u001b[38;5;241m=\u001b[39m {\u001b[38;5;124m\"\u001b[39m\u001b[38;5;124mapple\u001b[39m\u001b[38;5;124m\"\u001b[39m: \u001b[38;5;241m1\u001b[39m, \u001b[38;5;124m\"\u001b[39m\u001b[38;5;124mbanana\u001b[39m\u001b[38;5;124m\"\u001b[39m: \u001b[38;5;241m2\u001b[39m, \u001b[38;5;124m\"\u001b[39m\u001b[38;5;124morange\u001b[39m\u001b[38;5;124m\"\u001b[39m: \u001b[38;5;241m3\u001b[39m}\n\u001b[0;32m      3\u001b[0m \u001b[38;5;28mprint\u001b[39m(my_dict[\u001b[38;5;124m\"\u001b[39m\u001b[38;5;124mapple\u001b[39m\u001b[38;5;124m\"\u001b[39m])    \n\u001b[1;32m----> 4\u001b[0m \u001b[38;5;28mprint\u001b[39m(\u001b[43mmy_dict\u001b[49m\u001b[43m[\u001b[49m\u001b[38;5;124;43m\"\u001b[39;49m\u001b[38;5;124;43mgrape\u001b[39;49m\u001b[38;5;124;43m\"\u001b[39;49m\u001b[43m]\u001b[49m)\n",
      "\u001b[1;31mKeyError\u001b[0m: 'grape'"
     ]
    }
   ],
   "source": [
    "my_dict = {\"apple\": 1, \"banana\": 2, \"orange\": 3}\n",
    "\n",
    "print(my_dict[\"apple\"])    \n",
    "print(my_dict[\"grape\"])    \n",
    "#KeyError: 'grape'"
   ]
  },
  {
   "cell_type": "code",
   "execution_count": 21,
   "id": "981982e4-fe5a-4823-88cf-52e20d5d9204",
   "metadata": {
    "tags": []
   },
   "outputs": [
    {
     "name": "stdout",
     "output_type": "stream",
     "text": [
      "1\n"
     ]
    },
    {
     "ename": "IndexError",
     "evalue": "list index out of range",
     "output_type": "error",
     "traceback": [
      "\u001b[1;31m---------------------------------------------------------------------------\u001b[0m",
      "\u001b[1;31mIndexError\u001b[0m                                Traceback (most recent call last)",
      "Input \u001b[1;32mIn [21]\u001b[0m, in \u001b[0;36m<cell line: 4>\u001b[1;34m()\u001b[0m\n\u001b[0;32m      1\u001b[0m my_list \u001b[38;5;241m=\u001b[39m [\u001b[38;5;241m1\u001b[39m, \u001b[38;5;241m2\u001b[39m, \u001b[38;5;241m3\u001b[39m]\n\u001b[0;32m      3\u001b[0m \u001b[38;5;28mprint\u001b[39m(my_list[\u001b[38;5;241m0\u001b[39m])    \n\u001b[1;32m----> 4\u001b[0m \u001b[38;5;28mprint\u001b[39m(\u001b[43mmy_list\u001b[49m\u001b[43m[\u001b[49m\u001b[38;5;241;43m3\u001b[39;49m\u001b[43m]\u001b[49m)\n",
      "\u001b[1;31mIndexError\u001b[0m: list index out of range"
     ]
    }
   ],
   "source": [
    "my_list = [1, 2, 3]\n",
    "\n",
    "print(my_list[0])    \n",
    "print(my_list[3])    \n",
    "#IndexError: list index out of range"
   ]
  },
  {
   "cell_type": "code",
   "execution_count": 22,
   "id": "67a04afe-ee33-47fa-aa82-eb6c237a5927",
   "metadata": {
    "tags": []
   },
   "outputs": [],
   "source": [
    "# Explain ImportError. What is ModuleNotFoundError?"
   ]
  },
  {
   "cell_type": "code",
   "execution_count": 23,
   "id": "6b686bb8-6c50-41f7-aa02-d057d59e7262",
   "metadata": {
    "tags": []
   },
   "outputs": [],
   "source": [
    " # ImportError is an exception that is raised when an imported module or package cannot be found or loaded. "
   ]
  },
  {
   "cell_type": "code",
   "execution_count": 24,
   "id": "e55b7b58-555d-48ba-a50b-247f9c62e62c",
   "metadata": {
    "tags": []
   },
   "outputs": [
    {
     "ename": "ModuleNotFoundError",
     "evalue": "No module named 'my_module'",
     "output_type": "error",
     "traceback": [
      "\u001b[1;31m---------------------------------------------------------------------------\u001b[0m",
      "\u001b[1;31mModuleNotFoundError\u001b[0m                       Traceback (most recent call last)",
      "Input \u001b[1;32mIn [24]\u001b[0m, in \u001b[0;36m<cell line: 2>\u001b[1;34m()\u001b[0m\n\u001b[0;32m      1\u001b[0m \u001b[38;5;66;03m# my_script.py\u001b[39;00m\n\u001b[1;32m----> 2\u001b[0m \u001b[38;5;28;01mimport\u001b[39;00m \u001b[38;5;21;01mmy_module\u001b[39;00m\n\u001b[0;32m      4\u001b[0m \u001b[38;5;28mprint\u001b[39m(my_module\u001b[38;5;241m.\u001b[39mmy_function())\n",
      "\u001b[1;31mModuleNotFoundError\u001b[0m: No module named 'my_module'"
     ]
    }
   ],
   "source": [
    "# my_script.py\n",
    "import my_module\n",
    "\n",
    "print(my_module.my_function())\n",
    "# ModuleNotFoundError: No module named 'my_module'"
   ]
  },
  {
   "cell_type": "code",
   "execution_count": 25,
   "id": "63a69911-f5dc-442c-902b-6e1e27f01f77",
   "metadata": {
    "tags": []
   },
   "outputs": [],
   "source": [
    "# List down some best practices for exception handling in python."
   ]
  },
  {
   "cell_type": "code",
   "execution_count": 26,
   "id": "d3b897a3-3677-49fe-a183-50543b5bfd06",
   "metadata": {
    "tags": []
   },
   "outputs": [],
   "source": [
    "#use always a specific exception\n",
    "#print always a proper message \n",
    "#always try to log your error\n",
    "#alwyas avoid to write a multiple exception handling \n",
    "#Document all the error \n",
    "#cleanup all the resources"
   ]
  }
 ],
 "metadata": {
  "kernelspec": {
   "display_name": "Python 3 (ipykernel)",
   "language": "python",
   "name": "python3"
  },
  "language_info": {
   "codemirror_mode": {
    "name": "ipython",
    "version": 3
   },
   "file_extension": ".py",
   "mimetype": "text/x-python",
   "name": "python",
   "nbconvert_exporter": "python",
   "pygments_lexer": "ipython3",
   "version": "3.10.0"
  }
 },
 "nbformat": 4,
 "nbformat_minor": 5
}
